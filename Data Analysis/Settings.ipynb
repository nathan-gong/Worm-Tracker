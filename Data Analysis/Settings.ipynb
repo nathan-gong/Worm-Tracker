{
 "cells": [
  {
   "cell_type": "code",
   "execution_count": null,
   "metadata": {},
   "outputs": [],
   "source": [
    "import json\n",
    "from pprint import pprint\n",
    "from pathlib import Path\n",
    "from sklearn.model_selection import ParameterGrid\n",
    "import numpy as np\n",
    "\n",
    "# from WF_NTP.WF_NTP_script import run_tracker"
   ]
  },
  {
   "cell_type": "code",
   "execution_count": null,
   "metadata": {},
   "outputs": [],
   "source": [
    "with open('/Users/Nathan Gong/Desktop/Apfeld Lab/Worm Tracking/WF-NTP (Koopman et al)/output3/settings.json') as f:\n",
    "    settings_base = json.load(f)"
   ]
  },
  {
   "cell_type": "code",
   "execution_count": null,
   "metadata": {},
   "outputs": [],
   "source": [
    "analysis_dir = Path('/Users/Nathan Gong/Desktop/Apfeld Lab/Worm Tracking/WF-NTP (Koopman et al)/output3/all_analyses')\n",
    "\n",
    "params = {\n",
    "    'min_size': [50, 100, 150],\n",
    "    'max_size': [100, 200, 500],\n",
    "    'Bends_max': [True, False],\n",
    "    'max_d': [100, 120, 150]}\n",
    "\n",
    "print(list(ParameterGrid(params)))\n",
    "for i, param_set in enumerate(list(ParameterGrid(params))):\n",
    "    sub_dir = analysis_dir.joinpath(f'analysis_{i}')\n",
    "    sub_dir.mkdir(parents=True, exist_ok=True)\n",
    "    sub_settings = settings_base.copy()\n",
    "    for key, val in param_set.items():\n",
    "        sub_settings[key] = val\n",
    "    with open(sub_dir.joinpath('settings.json'), 'w') as f:\n",
    "        json.dump(sub_settings, f)\n",
    "    \n",
    "#     run_tracker(sub_settings)\n",
    "\n",
    "# settings_base['min_size'] = 600\n",
    "# settings_base"
   ]
  },
  {
   "cell_type": "code",
   "execution_count": null,
   "metadata": {},
   "outputs": [],
   "source": []
  }
 ],
 "metadata": {
  "kernelspec": {
   "display_name": "Python 3",
   "language": "python",
   "name": "python3"
  },
  "language_info": {
   "codemirror_mode": {
    "name": "ipython",
    "version": 3
   },
   "file_extension": ".py",
   "mimetype": "text/x-python",
   "name": "python",
   "nbconvert_exporter": "python",
   "pygments_lexer": "ipython3",
   "version": "3.8.1"
  }
 },
 "nbformat": 4,
 "nbformat_minor": 4
}
